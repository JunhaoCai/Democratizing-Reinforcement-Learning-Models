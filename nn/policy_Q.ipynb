{
 "cells": [
  {
   "cell_type": "code",
   "execution_count": 1,
   "metadata": {
    "collapsed": true,
    "ExecuteTime": {
     "end_time": "2023-07-15T15:55:15.203709Z",
     "start_time": "2023-07-15T15:54:48.803516Z"
    }
   },
   "outputs": [
    {
     "name": "stderr",
     "output_type": "stream",
     "text": [
      "Building prefix dict from the default dictionary ...\n",
      "Loading model from cache /var/folders/mc/p53lyyvn6374my8kzhqr8w840000gn/T/jieba.cache\n",
      "Loading model cost 0.753 seconds.\n",
      "Prefix dict has been built successfully.\n"
     ]
    },
    {
     "name": "stdout",
     "output_type": "stream",
     "text": [
      "nn_prediction:  tensor([0])\n",
      "模型预测类别：\n",
      "1. 0.11338582677165354\n",
      "2. 0.1921259842519685\n",
      "3. 0.0\n",
      "4. 0.0\n",
      "5. 0.0\n",
      "最终评论结果：坏评\n"
     ]
    }
   ],
   "source": [
    "import gensim\n",
    "import numpy as np\n",
    "import joblib\n",
    "import torch\n",
    "from ml_predict import predict\n",
    "from nn_predict import classify_review\n",
    "\n",
    "# 加载预训练的词向量模型\n",
    "model = gensim.models.KeyedVectors.load_word2vec_format(\"../word2vec_data/wiki_word2vec_50.bin\", binary=True)\n",
    "\n",
    "# 加载训练好的模型参数\n",
    "svm_model = joblib.load('../SVM/SVM_model.pkl')\n",
    "naive_bayes_model = joblib.load('../Bayes/NaiveBayes_model.pkl')\n",
    "decision_tree_model = joblib.load('../DecisionTree/GridSearch_decision_tree_model.pkl')\n",
    "random_forest_model = joblib.load('../RandomForest/RandomForest_model.pkl')\n",
    "neural_network_model = torch.load('../nn/nn_models/nn_model_epoch_12.pkl')\n",
    "\n",
    "# 读取权重文件\n",
    "def read_weights():\n",
    "    with open('../weights_Q.txt', 'r') as file:\n",
    "        weights = file.read().split(',')\n",
    "        return np.array([float(w) for w in weights])\n",
    "\n",
    "# 写入权重文件\n",
    "def write_weights(weights):\n",
    "    with open('../weights_Q.txt', 'w') as file:\n",
    "        normalized_weights = weights / np.sum(weights)  # 归一化处理\n",
    "        file.write(','.join(str(w) for w in normalized_weights))\n",
    "\n",
    "# 使用模型进行预测\n",
    "def get_predictions(comment, weights):\n",
    "    svm_prediction = predict(comment, svm_model, model)\n",
    "    naive_bayes_prediction = predict(comment, naive_bayes_model, model)\n",
    "    decision_tree_prediction = predict(comment, decision_tree_model, model)\n",
    "    random_forest_prediction = predict(comment, random_forest_model, model)\n",
    "    neural_network_prediction = classify_review(comment, neural_network_model)\n",
    "\n",
    "    # 根据权重给各个模型的预测结果赋值\n",
    "    weighted_predictions = [weights[0] * svm_prediction,\n",
    "                            weights[1] * naive_bayes_prediction,\n",
    "                            weights[2] * decision_tree_prediction,\n",
    "                            weights[3] * random_forest_prediction,\n",
    "                            weights[4] * neural_network_prediction]\n",
    "\n",
    "    return weighted_predictions\n",
    "\n",
    "# 更新权重\n",
    "def update_weights(weights, action, true_label, learning_rate, discount_factor):\n",
    "    rewards = [int(true_label == i) for i in range(len(weights))]  # 与真实标签比较，若预测准确则奖励为1，否则为0\n",
    "\n",
    "    # 更新Q值\n",
    "    for i in range(len(weights)):\n",
    "        weights[i] = (1 - learning_rate) * weights[i] + learning_rate * (rewards[i] + discount_factor * np.max(weights))\n",
    "\n",
    "    # 使用折扣因子进行权重衰减\n",
    "    weights *= discount_factor\n",
    "\n",
    "    return weights\n",
    "\n",
    "weights = read_weights()\n",
    "\n",
    "learning_rate = 0.1  # 学习率\n",
    "discount_factor = 0.9  # 折扣因子\n",
    "\n",
    "while True:\n",
    "    user_comment = input(\"请输入你的评论（输入'q'退出）：\")\n",
    "    if user_comment == 'q':\n",
    "        break\n",
    "\n",
    "    # 使用模型进行预测\n",
    "    predictions = get_predictions(user_comment, weights)\n",
    "\n",
    "    # 输出模型预测类别\n",
    "    print(\"模型预测类别：\")\n",
    "    for i, prediction in enumerate(predictions):\n",
    "        print(f\"{i+1}. {prediction}\")\n",
    "\n",
    "    # 根据权重选择最终的判断结果\n",
    "    final_result = np.argmax(predictions)\n",
    "    print(\"最终评论结果：好评\" if final_result == 0 else \"最终评论结果：坏评\")\n",
    "\n",
    "    # 根据模型预测结果判断是否需要人工干预\n",
    "    if np.argmax(predictions) != np.argmin(predictions):\n",
    "        choice = input(\"请判断模型预测是否正确（输入'y'表示正确，或输入'n'进行人工干预）：\")\n",
    "        if choice.lower() == 'y':\n",
    "            continue\n",
    "        elif choice.lower() == 'n':\n",
    "            correct_label = int(input(\"请输入正确的评价类别（0表示好评，1表示坏评）：\"))\n",
    "\n",
    "            # 更新权重\n",
    "            weights = update_weights(weights, final_result, correct_label, learning_rate, discount_factor)\n",
    "\n",
    "            # 将新的权重写入文件\n",
    "            write_weights(weights)"
   ]
  }
 ],
 "metadata": {
  "kernelspec": {
   "display_name": "Python 3",
   "language": "python",
   "name": "python3"
  },
  "language_info": {
   "codemirror_mode": {
    "name": "ipython",
    "version": 2
   },
   "file_extension": ".py",
   "mimetype": "text/x-python",
   "name": "python",
   "nbconvert_exporter": "python",
   "pygments_lexer": "ipython2",
   "version": "2.7.6"
  }
 },
 "nbformat": 4,
 "nbformat_minor": 0
}
