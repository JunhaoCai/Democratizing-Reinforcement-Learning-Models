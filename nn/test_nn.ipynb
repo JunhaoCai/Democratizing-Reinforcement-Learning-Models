{
 "cells": [
  {
   "cell_type": "markdown",
   "source": [
    "# 预测"
   ],
   "metadata": {
    "collapsed": false
   }
  },
  {
   "cell_type": "code",
   "execution_count": 4,
   "outputs": [
    {
     "data": {
      "text/plain": "LSTM_attention(\n  (embedding): Embedding(54848, 50)\n  (encoder): LSTM(50, 100, num_layers=4, batch_first=True, dropout=0.25, bidirectional=True)\n  (decoder1): Linear(in_features=200, out_features=100, bias=True)\n  (decoder2): Linear(in_features=100, out_features=2, bias=True)\n)"
     },
     "execution_count": 4,
     "metadata": {},
     "output_type": "execute_result"
    }
   ],
   "source": [
    "import torch\n",
    "\n",
    "# model = torch.load('../word2vec_data/nn_model/nn_model_epoch_13.pkl')\n",
    "model = torch.load(\"../nn/nn_models/nn_model_epoch_8.pkl\")\n",
    "model\n"
   ],
   "metadata": {
    "collapsed": false,
    "ExecuteTime": {
     "end_time": "2023-07-15T15:07:39.427537Z",
     "start_time": "2023-07-15T15:07:39.393771Z"
    }
   }
  },
  {
   "cell_type": "markdown",
   "source": [
    "# 可视化"
   ],
   "metadata": {
    "collapsed": false
   }
  },
  {
   "cell_type": "code",
   "execution_count": 3,
   "outputs": [],
   "source": [
    "def read_word2id(file_path):\n",
    "    word_to_idx = {}\n",
    "    with open(file_path, 'r', encoding='utf-8') as file:\n",
    "        for line in file:\n",
    "            line = line.strip()\n",
    "            if line:\n",
    "                word, idx = line.split()\n",
    "                word_to_idx[word] = int(idx)\n",
    "    return word_to_idx\n",
    "\n",
    "# 使用示例：\n",
    "word_to_idx = read_word2id('../word2vec_data/word2id.txt')"
   ],
   "metadata": {
    "collapsed": false,
    "ExecuteTime": {
     "end_time": "2023-07-15T14:18:51.282928Z",
     "start_time": "2023-07-15T14:18:51.226036Z"
    }
   }
  },
  {
   "cell_type": "code",
   "execution_count": 4,
   "outputs": [],
   "source": [
    "import torch\n",
    "import jieba\n",
    "\n",
    "def classify_review(comment):\n",
    "    words = list(jieba.cut(comment, cut_all=True))\n",
    "    word_indices = [word_to_idx[word] if word in word_to_idx else word_to_idx['_PAD_'] for word in words]\n",
    "\n",
    "    # 将词索引转换为张量\n",
    "    words_tensor = torch.tensor(word_indices).unsqueeze(0)\n",
    "    print(\"words_tensor: \", words_tensor)\n",
    "\n",
    "    # 使用模型进行分类\n",
    "    with torch.no_grad():\n",
    "        embeddings = model.embedding(words_tensor)  # [batch, seq_len] => [batch, seq_len, embed_dim]\n",
    "        states, hidden = model.encoder(embeddings)  # [batch, seq_len, embed_dim]\n",
    "        output = model.decoder1(states[:, -1, :])\n",
    "        output = model.decoder2(output)\n",
    "        print(\"output:\", output)\n",
    "        _, pred = torch.max(output, 1)\n",
    "        print(\"pred: \", pred)\n",
    "\n",
    "    if pred.item() == 0:\n",
    "        return '好评'\n",
    "    elif pred.item() == 1:\n",
    "        return '坏评'"
   ],
   "metadata": {
    "collapsed": false,
    "ExecuteTime": {
     "end_time": "2023-07-15T14:18:52.662599Z",
     "start_time": "2023-07-15T14:18:52.642131Z"
    }
   }
  },
  {
   "cell_type": "code",
   "execution_count": 5,
   "outputs": [
    {
     "name": "stderr",
     "output_type": "stream",
     "text": [
      "Building prefix dict from the default dictionary ...\n",
      "Loading model from cache /var/folders/mc/p53lyyvn6374my8kzhqr8w840000gn/T/jieba.cache\n",
      "Loading model cost 0.681 seconds.\n",
      "Prefix dict has been built successfully.\n"
     ]
    },
    {
     "name": "stdout",
     "output_type": "stream",
     "text": [
      "words_tensor:  tensor([[    0, 16246,   536]])\n",
      "output: tensor([[ 0.1968, -0.3772]])\n",
      "pred:  tensor([0])\n",
      "评论分类： 好评\n"
     ]
    }
   ],
   "source": [
    "# sen_model_epoch_10.pkl：真好看： 好评\n",
    "# sen_model_epoch_0.pkl：真好看：差评\n",
    "# 示例用法\n",
    "comment = input(\"请输入你的评论：\")\n",
    "classification = classify_review(comment)\n",
    "print(\"评论分类：\", classification)\n"
   ],
   "metadata": {
    "collapsed": false,
    "ExecuteTime": {
     "end_time": "2023-07-15T14:19:02.319675Z",
     "start_time": "2023-07-15T14:18:53.086439Z"
    }
   }
  }
 ],
 "metadata": {
  "kernelspec": {
   "display_name": "Python 3",
   "language": "python",
   "name": "python3"
  },
  "language_info": {
   "codemirror_mode": {
    "name": "ipython",
    "version": 2
   },
   "file_extension": ".py",
   "mimetype": "text/x-python",
   "name": "python",
   "nbconvert_exporter": "python",
   "pygments_lexer": "ipython2",
   "version": "2.7.6"
  }
 },
 "nbformat": 4,
 "nbformat_minor": 0
}
