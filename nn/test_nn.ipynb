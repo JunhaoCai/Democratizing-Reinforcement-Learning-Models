{
 "cells": [
  {
   "cell_type": "markdown",
   "source": [
    "# 预测"
   ],
   "metadata": {
    "collapsed": false
   }
  },
  {
   "cell_type": "code",
   "execution_count": 34,
   "outputs": [
    {
     "data": {
      "text/plain": "LSTM_attention(\n  (embedding): Embedding(54848, 50)\n  (encoder): LSTM(50, 100, num_layers=6, batch_first=True, dropout=0.2, bidirectional=True)\n  (decoder1): Linear(in_features=200, out_features=100, bias=True)\n  (decoder2): Linear(in_features=100, out_features=2, bias=True)\n)"
     },
     "execution_count": 34,
     "metadata": {},
     "output_type": "execute_result"
    }
   ],
   "source": [
    "import torch\n",
    "\n",
    "model = torch.load(\"../nn/nn_models/nn_model_epoch_29.pkl\")\n",
    "model\n"
   ],
   "metadata": {
    "collapsed": false,
    "ExecuteTime": {
     "end_time": "2023-08-01T03:21:38.119121300Z",
     "start_time": "2023-08-01T03:21:38.093507700Z"
    }
   }
  },
  {
   "cell_type": "markdown",
   "source": [
    "# 可视化"
   ],
   "metadata": {
    "collapsed": false
   }
  },
  {
   "cell_type": "code",
   "execution_count": 35,
   "outputs": [],
   "source": [
    "def read_word2id(file_path):\n",
    "    word_to_idx = {}\n",
    "    with open(file_path, 'r', encoding='utf-8') as file:\n",
    "        for line in file:\n",
    "            line = line.strip()\n",
    "            if line:\n",
    "                word, idx = line.split()\n",
    "                word_to_idx[word] = int(idx)\n",
    "    return word_to_idx\n",
    "\n",
    "# 使用示例：\n",
    "word_to_idx = read_word2id('../word2vec_data/word2id.txt')\n"
   ],
   "metadata": {
    "collapsed": false,
    "ExecuteTime": {
     "end_time": "2023-08-01T03:21:38.157474300Z",
     "start_time": "2023-08-01T03:21:38.117205200Z"
    }
   }
  },
  {
   "cell_type": "code",
   "execution_count": 36,
   "outputs": [],
   "source": [
    "import torch\n",
    "import jieba\n",
    "\n",
    "def classify_review(comment, model):\n",
    "    words = list(jieba.cut(comment, cut_all=True))\n",
    "    word_indices = [word_to_idx[word] if word in word_to_idx else word_to_idx['_PAD_'] for word in words]\n",
    "\n",
    "    # 将词索引转换为张量\n",
    "    words_tensor = torch.tensor(word_indices).unsqueeze(0)\n",
    "    # print(\"words_tensor: \", words_tensor)\n",
    "    if torch.cuda.is_available():\n",
    "        device = torch.device('cuda:0')\n",
    "        model.to(device)\n",
    "        words_tensor = words_tensor.to(device)\n",
    "\n",
    "    # 使用模型进行分类\n",
    "    with torch.no_grad():\n",
    "        embeddings = model.embedding(words_tensor)  # [batch, seq_len] => [batch, seq_len, embed_dim]\n",
    "        states, hidden = model.encoder(embeddings)  # [batch, seq_len, embed_dim]\n",
    "        output = model.decoder1(states[:, -1, :])\n",
    "        output = model.decoder2(output)\n",
    "        # print(\"output:\", output)\n",
    "        _, pred = torch.max(output, 1)\n",
    "        print(\"nn_prediction: \", pred)\n",
    "\n",
    "    if pred.item() == 0:\n",
    "        print(\"好评\")\n",
    "        return 0\n",
    "    elif pred.item() == 1:\n",
    "        print(\"坏评\")\n",
    "        return 1"
   ],
   "metadata": {
    "collapsed": false,
    "ExecuteTime": {
     "end_time": "2023-08-01T03:21:38.163489600Z",
     "start_time": "2023-08-01T03:21:38.144111200Z"
    }
   }
  },
  {
   "cell_type": "code",
   "execution_count": 37,
   "outputs": [
    {
     "name": "stdout",
     "output_type": "stream",
     "text": [
      "这个真不错！\n",
      "nn_prediction:  tensor([0], device='cuda:0')\n",
      "好评\n",
      "评论分类： 0\n"
     ]
    }
   ],
   "source": [
    "# 示例用法\n",
    "comment = input(\"请输入你的评论：\")\n",
    "print(comment)\n",
    "classification = classify_review(comment, model)\n",
    "print(\"评论分类：\", classification)\n"
   ],
   "metadata": {
    "collapsed": false,
    "ExecuteTime": {
     "end_time": "2023-08-01T03:21:41.957760300Z",
     "start_time": "2023-08-01T03:21:38.147097600Z"
    }
   }
  }
 ],
 "metadata": {
  "kernelspec": {
   "display_name": "Python 3",
   "language": "python",
   "name": "python3"
  },
  "language_info": {
   "codemirror_mode": {
    "name": "ipython",
    "version": 2
   },
   "file_extension": ".py",
   "mimetype": "text/x-python",
   "name": "python",
   "nbconvert_exporter": "python",
   "pygments_lexer": "ipython2",
   "version": "2.7.6"
  }
 },
 "nbformat": 4,
 "nbformat_minor": 0
}
