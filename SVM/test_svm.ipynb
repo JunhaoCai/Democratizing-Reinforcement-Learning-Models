{
 "cells": [
  {
   "cell_type": "code",
   "execution_count": 1,
   "outputs": [
    {
     "name": "stderr",
     "output_type": "stream",
     "text": [
      "Building prefix dict from the default dictionary ...\n",
      "Loading model from cache /var/folders/mc/p53lyyvn6374my8kzhqr8w840000gn/T/jieba.cache\n",
      "Loading model cost 0.598 seconds.\n",
      "Prefix dict has been built successfully.\n"
     ]
    },
    {
     "name": "stdout",
     "output_type": "stream",
     "text": [
      "result: [1]\n",
      "类别：坏评\n"
     ]
    }
   ],
   "source": [
    "import numpy as np\n",
    "import gensim\n",
    "import joblib\n",
    "import jieba\n",
    "\n",
    "# 从.pkl文件中加载SVM模型\n",
    "SVM = joblib.load('SVM_model.pkl')\n",
    "\n",
    "# 加载预训练的词向量模型\n",
    "model = gensim.models.KeyedVectors.load_word2vec_format(\"../word2vec_data/wiki_word2vec_50.bin\", binary=True)\n",
    "\n",
    "def preprocess_text(text):\n",
    "    # 进行文本清洗和标准化，去除特殊字符等\n",
    "    # 示例：去除标点符号\n",
    "    processed_text = text.replace(\",\", \"\").replace(\".\", \"\").replace(\"!\", \"\").replace(\"?\", \"\")\n",
    "    return processed_text\n",
    "\n",
    "def extend_word_vector(word_vector):\n",
    "    extended_vector = np.append(word_vector, np.zeros(15))\n",
    "    return extended_vector\n",
    "\n",
    "def extract_features(text, model):\n",
    "    # 提取特征表示\n",
    "    words = jieba.lcut(text, cut_all=True)\n",
    "    features = []\n",
    "    for word in words:\n",
    "        if word in model.key_to_index:\n",
    "            word_vector = model.get_vector(word)\n",
    "            if word_vector.shape[0] == 50:\n",
    "                word_vector = extend_word_vector(word_vector)\n",
    "            features.append(word_vector)\n",
    "    if len(features) > 0:\n",
    "        features = np.mean(features, axis=0)  # 使用平均词向量作为特征\n",
    "    else:\n",
    "        features = np.zeros(65)  # 如果没有有效词向量，则使用全零向量\n",
    "    return features\n",
    "\n",
    "def predict(query):\n",
    "    processed_query = preprocess_text(query)\n",
    "    features = extract_features(processed_query, model)\n",
    "    features = features.reshape(1, -1)\n",
    "    result = SVM.predict(features)\n",
    "    print(\"result:\", result)\n",
    "\n",
    "    if result == 0:\n",
    "        print('类别：好评')\n",
    "    elif result == 1:\n",
    "        print('类别：坏评')\n",
    "\n",
    "query = input(\"请输入你的评论：\")\n",
    "predict(query)\n"
   ],
   "metadata": {
    "collapsed": false,
    "ExecuteTime": {
     "end_time": "2023-07-15T12:49:59.150538Z",
     "start_time": "2023-07-15T12:49:47.215349Z"
    }
   }
  },
  {
   "cell_type": "code",
   "execution_count": null,
   "outputs": [],
   "source": [],
   "metadata": {
    "collapsed": false
   }
  }
 ],
 "metadata": {
  "kernelspec": {
   "display_name": "Python 3",
   "language": "python",
   "name": "python3"
  },
  "language_info": {
   "codemirror_mode": {
    "name": "ipython",
    "version": 2
   },
   "file_extension": ".py",
   "mimetype": "text/x-python",
   "name": "python",
   "nbconvert_exporter": "python",
   "pygments_lexer": "ipython2",
   "version": "2.7.6"
  }
 },
 "nbformat": 4,
 "nbformat_minor": 0
}
